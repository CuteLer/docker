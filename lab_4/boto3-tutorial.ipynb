{
 "cells": [
  {
   "cell_type": "markdown",
   "metadata": {},
   "source": [
    "# Boto3 & LocalStudio\n",
    "\n",
    "![Boto3 & LocalStudio image](img/s3-10.png)\n",
    "\n",
    "\n",
    "## 🏠 What is localstack?\n",
    "\n",
    "**Localstack** is a platform that provides a local version of several cloud services, allowing you to simulate a development environment with AWS services. This allows you to debug and refine your code before deploying it to a production environment. For this reason, Localstack is a valuable tool for emulating essential AWS services such as object storage and message queues, among others.\n",
    "\n",
    "Also, **Localstack** serves as an effective tool for learning to implement and deploy services using a Docker container without the need for an AWS account or the use of your credit card. \n",
    "In this tutorial, we create a Localstack container to implement the main functionalities of S3 services.\n",
    "\n",
    "---\n",
    "\n",
    "## What is boto3?\n",
    "\n",
    "**`Boto3`** is a 🐍 Python library that allows the integration with AWS services, facilitating various tasks such as creation, management, and configuration of these services.\n",
    "\n",
    "There are two primary implementations within Boto3: \n",
    "* **Resource implementation**: provides a higher-level, object-oriented interface, abstracting away low-level details and offering simplified interactions with AWS services. \n",
    "* **Client implementation**: offers a lower-level, service-oriented interface, providing more granular control and flexibility for interacting with AWS services directly.\n",
    "\n",
    "\n",
    "---\n",
    "\n",
    "## Prerequisites\n",
    "Before you begin, ensure that you have the following installed:\n",
    "\n",
    "* 🐳 Docker\n",
    "* 🐙 Docker Compose\n",
    "\n",
    "\n",
    "---\n",
    "\n",
    "### 🚀 Build and run the Docker Compose environment\n",
    "\n",
    "#### 1. Clone the repository\n",
    " ```bash\n",
    "   git clone https://github.com/r0mymendez/LocalStack-boto3.git\n",
    "   cd LocalStack-boto3\n",
    "```\n",
    "#### 2. Build an run the docker compose \n",
    "  \n",
    "`docker-compose -f docker-compose.yaml up --build`\n",
    "\n",
    "---\n",
    "\n",
    "### 🚀 Using LocalStack with Boto3: A Step-by-Step Guide\n",
    "### 🛠️ Install Boto3\n",
    "\n",
    "```!pip install boto3```\n",
    "\n",
    "\n"
   ]
  },
  {
   "cell_type": "code",
   "execution_count": 2,
   "metadata": {
    "ExecuteTime": {
     "end_time": "2024-05-10T21:34:39.567331900Z",
     "start_time": "2024-05-10T21:34:38.470520Z"
    }
   },
   "outputs": [],
   "source": [
    "import boto3\n",
    "import json \n",
    "import requests\n",
    "import pandas as pd\n",
    "from datetime import datetime\n",
    "import io\n",
    "import os"
   ]
  },
  {
   "cell_type": "markdown",
   "metadata": {},
   "source": [
    "### 🛠️ Create a session using the localstack endpoint\n",
    "The following code snippet initializes a client for accessing the S3 service using the LocalStack endpoint."
   ]
  },
  {
   "cell_type": "code",
   "execution_count": 3,
   "metadata": {
    "ExecuteTime": {
     "end_time": "2024-05-10T21:35:22.184936500Z",
     "start_time": "2024-05-10T21:35:21.833550700Z"
    }
   },
   "outputs": [],
   "source": [
    "\n",
    "s3 = boto3.client(\n",
    "    service_name='s3',\n",
    "    aws_access_key_id='test',\n",
    "    aws_secret_access_key='test',\n",
    "    endpoint_url='http://localhost:4566',\n",
    ")"
   ]
  },
  {
   "cell_type": "markdown",
   "metadata": {},
   "source": [
    "### 🛠️ Create new buckets\n",
    "Below is the code snippet to create new buckets using the Boto3 library"
   ]
  },
  {
   "cell_type": "code",
   "execution_count": 4,
   "metadata": {
    "ExecuteTime": {
     "end_time": "2024-05-10T21:36:23.092136800Z",
     "start_time": "2024-05-10T21:36:21.842507400Z"
    }
   },
   "outputs": [
    {
     "data": {
      "text/plain": "{'ResponseMetadata': {'RequestId': 'a2b07001-d2ac-43f5-9ba1-c819c1ae6ff0',\n  'HostId': 's9lzHYrFp76ZVxRcpX9+5cjAnEH2ROuNkd2BHfIa6UkFVdtjf5mKR3/eTPFvsiP/XV/VLi31234=',\n  'HTTPStatusCode': 200,\n  'HTTPHeaders': {'server': 'TwistedWeb/24.3.0',\n   'date': 'Fri, 10 May 2024 21:36:23 GMT',\n   'access-control-allow-origin': '*',\n   'access-control-allow-methods': 'HEAD,GET,PUT,POST,DELETE,OPTIONS,PATCH',\n   'access-control-allow-headers': 'authorization,cache-control,content-length,content-md5,content-type,etag,location,x-amz-acl,x-amz-content-sha256,x-amz-date,x-amz-request-id,x-amz-security-token,x-amz-tagging,x-amz-target,x-amz-user-agent,x-amz-version-id,x-amzn-requestid,x-localstack-target,amz-sdk-invocation-id,amz-sdk-request',\n   'access-control-expose-headers': 'etag,x-amz-version-id',\n   'vary': 'Origin',\n   'location': '/news-config',\n   'x-amz-request-id': 'a2b07001-d2ac-43f5-9ba1-c819c1ae6ff0',\n   'x-amz-id-2': 's9lzHYrFp76ZVxRcpX9+5cjAnEH2ROuNkd2BHfIa6UkFVdtjf5mKR3/eTPFvsiP/XV/VLi31234=',\n   'content-length': '0'},\n  'RetryAttempts': 0},\n 'Location': '/news-config'}"
     },
     "execution_count": 4,
     "metadata": {},
     "output_type": "execute_result"
    }
   ],
   "source": [
    "# create buckets\n",
    "bucket_name_news = 'news'\n",
    "bucket_name_config = 'news-config'\n",
    "\n",
    "s3.create_bucket(Bucket= bucket_name_news)\n",
    "s3.create_bucket(Bucket=bucket_name_config)"
   ]
  },
  {
   "cell_type": "markdown",
   "metadata": {},
   "source": [
    "### 📋 List all buckets\n",
    "After creating a bucket, you can use the following code to list all the buckets available at your endpoint."
   ]
  },
  {
   "cell_type": "code",
   "execution_count": 7,
   "metadata": {
    "ExecuteTime": {
     "end_time": "2024-05-10T21:38:44.904959800Z",
     "start_time": "2024-05-10T21:38:44.842095900Z"
    }
   },
   "outputs": [
    {
     "data": {
      "text/plain": "          Name              CreationDate\n0         news 2024-05-10 21:36:23+00:00\n1  news-config 2024-05-10 21:36:23+00:00",
      "text/html": "<div>\n<style scoped>\n    .dataframe tbody tr th:only-of-type {\n        vertical-align: middle;\n    }\n\n    .dataframe tbody tr th {\n        vertical-align: top;\n    }\n\n    .dataframe thead th {\n        text-align: right;\n    }\n</style>\n<table border=\"1\" class=\"dataframe\">\n  <thead>\n    <tr style=\"text-align: right;\">\n      <th></th>\n      <th>Name</th>\n      <th>CreationDate</th>\n    </tr>\n  </thead>\n  <tbody>\n    <tr>\n      <th>0</th>\n      <td>news</td>\n      <td>2024-05-10 21:36:23+00:00</td>\n    </tr>\n    <tr>\n      <th>1</th>\n      <td>news-config</td>\n      <td>2024-05-10 21:36:23+00:00</td>\n    </tr>\n  </tbody>\n</table>\n</div>"
     },
     "execution_count": 7,
     "metadata": {},
     "output_type": "execute_result"
    }
   ],
   "source": [
    "# List all buckets\n",
    "response = s3.list_buckets()\n",
    "pd.json_normalize(response['Buckets'])"
   ]
  },
  {
   "cell_type": "markdown",
   "metadata": {},
   "source": [
    "### 📤 Upload the JSON file to s3\n",
    "Once we extract data from the API to gather information about news topics, the following code generates a JSON file and uploads it to the S3 bucket previously created."
   ]
  },
  {
   "cell_type": "code",
   "execution_count": 9,
   "metadata": {
    "ExecuteTime": {
     "end_time": "2024-05-10T21:41:35.089401400Z",
     "start_time": "2024-05-10T21:41:33.837202300Z"
    }
   },
   "outputs": [
    {
     "name": "stdout",
     "output_type": "stream",
     "text": [
      "data ['US', 'World', 'Business', 'Technology', 'Entertainment', 'Sports', 'Science', 'Health']\n"
     ]
    }
   ],
   "source": [
    "# invoke the config news\n",
    "url = 'https://ok.surf/api/v1/cors/news-section-names'\n",
    "response = requests.get(url)\n",
    "if response.status_code==200:\n",
    "    data = response.json()\n",
    "    # ad json file to s3\n",
    "    print('data', data)\n",
    "    # upload the data to s3\n",
    "    s3.put_object(Bucket=bucket_name_config, Key='news-section/data_config.json', Body=json.dumps(data))\n",
    "\n"
   ]
  },
  {
   "cell_type": "markdown",
   "metadata": {},
   "source": [
    "### 📋 List all objects\n",
    "Now, let's list all the objects stored in our bucket. Since we might have stored a JSON file in the previous step, we'll include code to retrieve all objects from the bucket."
   ]
  },
  {
   "cell_type": "code",
   "execution_count": 10,
   "metadata": {
    "ExecuteTime": {
     "end_time": "2024-05-10T21:43:47.204109Z",
     "start_time": "2024-05-10T21:43:47.200565400Z"
    }
   },
   "outputs": [],
   "source": [
    "def list_objects(bucket_name):\n",
    "    response = s3.list_objects(Bucket=bucket_name)\n",
    "    return pd.json_normalize(response['Contents'])"
   ]
  },
  {
   "cell_type": "code",
   "execution_count": 11,
   "metadata": {
    "ExecuteTime": {
     "end_time": "2024-05-10T21:44:08.711169600Z",
     "start_time": "2024-05-10T21:44:08.659187600Z"
    }
   },
   "outputs": [
    {
     "data": {
      "text/plain": "                             Key              LastModified  \\\n0  news-section/data_config.json 2024-05-10 21:41:35+00:00   \n\n                                 ETag  Size StorageClass Owner.DisplayName  \\\n0  \"d61029b184d21dae1febcb46062216d3\"    89     STANDARD           webfile   \n\n                                            Owner.ID  \n0  75aa57f09aa0c8caeab4f8c24e99d10f8e7faeebf76c07...  ",
      "text/html": "<div>\n<style scoped>\n    .dataframe tbody tr th:only-of-type {\n        vertical-align: middle;\n    }\n\n    .dataframe tbody tr th {\n        vertical-align: top;\n    }\n\n    .dataframe thead th {\n        text-align: right;\n    }\n</style>\n<table border=\"1\" class=\"dataframe\">\n  <thead>\n    <tr style=\"text-align: right;\">\n      <th></th>\n      <th>Key</th>\n      <th>LastModified</th>\n      <th>ETag</th>\n      <th>Size</th>\n      <th>StorageClass</th>\n      <th>Owner.DisplayName</th>\n      <th>Owner.ID</th>\n    </tr>\n  </thead>\n  <tbody>\n    <tr>\n      <th>0</th>\n      <td>news-section/data_config.json</td>\n      <td>2024-05-10 21:41:35+00:00</td>\n      <td>\"d61029b184d21dae1febcb46062216d3\"</td>\n      <td>89</td>\n      <td>STANDARD</td>\n      <td>webfile</td>\n      <td>75aa57f09aa0c8caeab4f8c24e99d10f8e7faeebf76c07...</td>\n    </tr>\n  </tbody>\n</table>\n</div>"
     },
     "execution_count": 11,
     "metadata": {},
     "output_type": "execute_result"
    }
   ],
   "source": [
    "# list all objects in the bucket\n",
    "list_objects(bucket_name=bucket_name_config)"
   ]
  },
  {
   "cell_type": "markdown",
   "metadata": {},
   "source": [
    "###  📄 Upload multiple CSV files to s3 \n",
    "In the following code snippet, we will request another method from the API to extract news for each topic. Subsequently, we will create different folders in the bucket to save CSV files containing the news for each topic. This code enables you to save multiple files in the same bucket while organizing them into folders based on the topic and the date of the data request."
   ]
  },
  {
   "cell_type": "code",
   "execution_count": 12,
   "metadata": {
    "ExecuteTime": {
     "end_time": "2024-05-10T21:46:55.577428300Z",
     "start_time": "2024-05-10T21:46:54.031169300Z"
    }
   },
   "outputs": [],
   "source": [
    "# Request the news feed API Method\n",
    "url = 'https://ok.surf/api/v1/news-feed' \n",
    "response = requests.get(url)\n",
    "if response.status_code==200:\n",
    "    data = response.json()\n",
    "\n",
    "# Add the json file to s3\n",
    "folder_dt =  f'dt={datetime.now().strftime(\"%Y%m%d\")}'\n",
    "\n",
    "for item in data.keys():\n",
    "    tmp = pd.json_normalize(data[item])\n",
    "    tmp['section'] = item   \n",
    "    tmp['download_date'] = datetime.now()\n",
    "    tmp['date'] = pd.to_datetime(tmp['download_date']).dt.date\n",
    "    path = f\"s3://{bucket_name_news}/{item}/{folder_dt}/data_{item}_news.csv\"\n",
    "\n",
    "    # upload multiple files to s3\n",
    "    bytes_io = io.BytesIO()\n",
    "    tmp.to_csv(bytes_io, index=False)\n",
    "    bytes_io.seek(0)\n",
    "    s3.put_object(Bucket=bucket_name_news, Key=path, Body=bytes_io)\n",
    "\n"
   ]
  },
  {
   "cell_type": "code",
   "execution_count": 13,
   "metadata": {
    "ExecuteTime": {
     "end_time": "2024-05-10T21:46:58.889175600Z",
     "start_time": "2024-05-10T21:46:58.839379100Z"
    }
   },
   "outputs": [
    {
     "data": {
      "text/plain": "                                                 Key  \\\n0  s3://news/Business/dt=20240511/data_Business_n...   \n1  s3://news/Entertainment/dt=20240511/data_Enter...   \n2  s3://news/Health/dt=20240511/data_Health_news.csv   \n3  s3://news/Science/dt=20240511/data_Science_new...   \n4  s3://news/Sports/dt=20240511/data_Sports_news.csv   \n5  s3://news/Technology/dt=20240511/data_Technolo...   \n6          s3://news/US/dt=20240511/data_US_news.csv   \n7    s3://news/World/dt=20240511/data_World_news.csv   \n\n               LastModified                                ETag   Size  \\\n0 2024-05-10 21:46:55+00:00  \"c9cfff1962c8959c93aa60e644e68cd3\"  47523   \n1 2024-05-10 21:46:55+00:00  \"9c2a7cb7fe97d95dc6759f5503c46e19\"  25610   \n2 2024-05-10 21:46:55+00:00  \"d97d1d0fd3c2d70fd9f0f2ed0636de5e\"  44806   \n3 2024-05-10 21:46:55+00:00  \"85e00f8ff2e116ae7436eaf1c2974576\"  44191   \n4 2024-05-10 21:46:55+00:00  \"9152f7a9de110bb08b92d38525ca9317\"  45166   \n5 2024-05-10 21:46:55+00:00  \"b25168c99e9b5abf785461451d2a0006\"  14151   \n6 2024-05-10 21:46:55+00:00  \"2542a4ee73d2bbc32a9823c9d91bb111\"  46965   \n7 2024-05-10 21:46:55+00:00  \"6aba1e054eb1e750c43219df3a19cf2c\"  27795   \n\n  StorageClass Owner.DisplayName  \\\n0     STANDARD           webfile   \n1     STANDARD           webfile   \n2     STANDARD           webfile   \n3     STANDARD           webfile   \n4     STANDARD           webfile   \n5     STANDARD           webfile   \n6     STANDARD           webfile   \n7     STANDARD           webfile   \n\n                                            Owner.ID  \n0  75aa57f09aa0c8caeab4f8c24e99d10f8e7faeebf76c07...  \n1  75aa57f09aa0c8caeab4f8c24e99d10f8e7faeebf76c07...  \n2  75aa57f09aa0c8caeab4f8c24e99d10f8e7faeebf76c07...  \n3  75aa57f09aa0c8caeab4f8c24e99d10f8e7faeebf76c07...  \n4  75aa57f09aa0c8caeab4f8c24e99d10f8e7faeebf76c07...  \n5  75aa57f09aa0c8caeab4f8c24e99d10f8e7faeebf76c07...  \n6  75aa57f09aa0c8caeab4f8c24e99d10f8e7faeebf76c07...  \n7  75aa57f09aa0c8caeab4f8c24e99d10f8e7faeebf76c07...  ",
      "text/html": "<div>\n<style scoped>\n    .dataframe tbody tr th:only-of-type {\n        vertical-align: middle;\n    }\n\n    .dataframe tbody tr th {\n        vertical-align: top;\n    }\n\n    .dataframe thead th {\n        text-align: right;\n    }\n</style>\n<table border=\"1\" class=\"dataframe\">\n  <thead>\n    <tr style=\"text-align: right;\">\n      <th></th>\n      <th>Key</th>\n      <th>LastModified</th>\n      <th>ETag</th>\n      <th>Size</th>\n      <th>StorageClass</th>\n      <th>Owner.DisplayName</th>\n      <th>Owner.ID</th>\n    </tr>\n  </thead>\n  <tbody>\n    <tr>\n      <th>0</th>\n      <td>s3://news/Business/dt=20240511/data_Business_n...</td>\n      <td>2024-05-10 21:46:55+00:00</td>\n      <td>\"c9cfff1962c8959c93aa60e644e68cd3\"</td>\n      <td>47523</td>\n      <td>STANDARD</td>\n      <td>webfile</td>\n      <td>75aa57f09aa0c8caeab4f8c24e99d10f8e7faeebf76c07...</td>\n    </tr>\n    <tr>\n      <th>1</th>\n      <td>s3://news/Entertainment/dt=20240511/data_Enter...</td>\n      <td>2024-05-10 21:46:55+00:00</td>\n      <td>\"9c2a7cb7fe97d95dc6759f5503c46e19\"</td>\n      <td>25610</td>\n      <td>STANDARD</td>\n      <td>webfile</td>\n      <td>75aa57f09aa0c8caeab4f8c24e99d10f8e7faeebf76c07...</td>\n    </tr>\n    <tr>\n      <th>2</th>\n      <td>s3://news/Health/dt=20240511/data_Health_news.csv</td>\n      <td>2024-05-10 21:46:55+00:00</td>\n      <td>\"d97d1d0fd3c2d70fd9f0f2ed0636de5e\"</td>\n      <td>44806</td>\n      <td>STANDARD</td>\n      <td>webfile</td>\n      <td>75aa57f09aa0c8caeab4f8c24e99d10f8e7faeebf76c07...</td>\n    </tr>\n    <tr>\n      <th>3</th>\n      <td>s3://news/Science/dt=20240511/data_Science_new...</td>\n      <td>2024-05-10 21:46:55+00:00</td>\n      <td>\"85e00f8ff2e116ae7436eaf1c2974576\"</td>\n      <td>44191</td>\n      <td>STANDARD</td>\n      <td>webfile</td>\n      <td>75aa57f09aa0c8caeab4f8c24e99d10f8e7faeebf76c07...</td>\n    </tr>\n    <tr>\n      <th>4</th>\n      <td>s3://news/Sports/dt=20240511/data_Sports_news.csv</td>\n      <td>2024-05-10 21:46:55+00:00</td>\n      <td>\"9152f7a9de110bb08b92d38525ca9317\"</td>\n      <td>45166</td>\n      <td>STANDARD</td>\n      <td>webfile</td>\n      <td>75aa57f09aa0c8caeab4f8c24e99d10f8e7faeebf76c07...</td>\n    </tr>\n    <tr>\n      <th>5</th>\n      <td>s3://news/Technology/dt=20240511/data_Technolo...</td>\n      <td>2024-05-10 21:46:55+00:00</td>\n      <td>\"b25168c99e9b5abf785461451d2a0006\"</td>\n      <td>14151</td>\n      <td>STANDARD</td>\n      <td>webfile</td>\n      <td>75aa57f09aa0c8caeab4f8c24e99d10f8e7faeebf76c07...</td>\n    </tr>\n    <tr>\n      <th>6</th>\n      <td>s3://news/US/dt=20240511/data_US_news.csv</td>\n      <td>2024-05-10 21:46:55+00:00</td>\n      <td>\"2542a4ee73d2bbc32a9823c9d91bb111\"</td>\n      <td>46965</td>\n      <td>STANDARD</td>\n      <td>webfile</td>\n      <td>75aa57f09aa0c8caeab4f8c24e99d10f8e7faeebf76c07...</td>\n    </tr>\n    <tr>\n      <th>7</th>\n      <td>s3://news/World/dt=20240511/data_World_news.csv</td>\n      <td>2024-05-10 21:46:55+00:00</td>\n      <td>\"6aba1e054eb1e750c43219df3a19cf2c\"</td>\n      <td>27795</td>\n      <td>STANDARD</td>\n      <td>webfile</td>\n      <td>75aa57f09aa0c8caeab4f8c24e99d10f8e7faeebf76c07...</td>\n    </tr>\n  </tbody>\n</table>\n</div>"
     },
     "execution_count": 13,
     "metadata": {},
     "output_type": "execute_result"
    }
   ],
   "source": [
    "# list all objects in the bucket\n",
    "list_objects(bucket_name=bucket_name_news)\n"
   ]
  },
  {
   "cell_type": "markdown",
   "metadata": {},
   "source": [
    "###  📄 Read csv file from s3 \n",
    "In this section, we aim to read a file containing news about technology topics from S3. To accomplish this, we first retrieve the name of the file in the bucket. Then, we read this file and print the contents as a pandas dataframe."
   ]
  },
  {
   "cell_type": "code",
   "execution_count": 14,
   "metadata": {
    "ExecuteTime": {
     "end_time": "2024-05-10T21:48:54.375064900Z",
     "start_time": "2024-05-10T21:48:54.325141Z"
    }
   },
   "outputs": [
    {
     "name": "stdout",
     "output_type": "stream",
     "text": [
      "file_name s3://news/Technology/dt=20240511/data_Technology_news.csv\n"
     ]
    }
   ],
   "source": [
    "# Get the technology file\n",
    "files = list_objects(bucket_name=bucket_name_news)\n",
    "technology_file = files[files['Key'].str.find('Technology')>=0]['Key'].values[0]\n",
    "print('file_name',technology_file)"
   ]
  },
  {
   "cell_type": "code",
   "execution_count": 15,
   "metadata": {
    "ExecuteTime": {
     "end_time": "2024-05-10T21:49:17.805214600Z",
     "start_time": "2024-05-10T21:49:17.760114200Z"
    }
   },
   "outputs": [
    {
     "data": {
      "text/plain": "                                                 link  \\\n0   https://news.google.com/articles/CBMiPGh0dHBzO...   \n1   https://news.google.com/articles/CBMiXGh0dHBzO...   \n2   https://news.google.com/articles/CBMiRmh0dHBzO...   \n3   https://news.google.com/articles/CBMiQmh0dHBzO...   \n4   https://news.google.com/articles/CBMigAFodHRwc...   \n5   https://news.google.com/articles/CBMiR2h0dHBzO...   \n6   https://news.google.com/articles/CBMiUWh0dHBzO...   \n7   https://news.google.com/articles/CBMiXGh0dHBzO...   \n8   https://news.google.com/articles/CBMiVmh0dHBzO...   \n9   https://news.google.com/articles/CBMifmh0dHBzO...   \n10  https://news.google.com/articles/CBMiXGh0dHBzO...   \n11  https://news.google.com/articles/CBMiWGh0dHBzO...   \n12  https://news.google.com/articles/CBMifWh0dHBzO...   \n13  https://news.google.com/articles/CBMieGh0dHBzO...   \n14  https://news.google.com/articles/CBMiWmh0dHBzO...   \n15  https://news.google.com/articles/CBMiVmh0dHBzO...   \n16  https://news.google.com/articles/CBMiOWh0dHBzO...   \n17  https://news.google.com/articles/CBMicGh0dHBzO...   \n18  https://news.google.com/articles/CBMiX2h0dHBzO...   \n19  https://news.google.com/articles/CBMic2h0dHBzO...   \n20  https://news.google.com/articles/CBMiQWh0dHBzO...   \n21  https://news.google.com/articles/CBMiX2h0dHBzO...   \n\n                                                   og                source  \\\n0   https://encrypted-tbn3.gstatic.com/images?q=tb...             MacRumors   \n1   https://encrypted-tbn2.gstatic.com/images?q=tb...             The Verge   \n2   https://encrypted-tbn2.gstatic.com/images?q=tb...    The New York Times   \n3   https://encrypted-tbn2.gstatic.com/images?q=tb...               9to5Mac   \n4   https://encrypted-tbn0.gstatic.com/images?q=tb...                   IGN   \n5   https://encrypted-tbn0.gstatic.com/images?q=tb...            9to5Google   \n6   https://encrypted-tbn1.gstatic.com/images?q=tb...               Gizmodo   \n7   https://encrypted-tbn2.gstatic.com/images?q=tb...                  CNET   \n8   https://encrypted-tbn1.gstatic.com/images?q=tb...     Android Authority   \n9   https://encrypted-tbn1.gstatic.com/images?q=tb...         Game Informer   \n10  https://encrypted-tbn0.gstatic.com/images?q=tb...              Engadget   \n11  https://encrypted-tbn3.gstatic.com/images?q=tb...               9to5Mac   \n12  https://encrypted-tbn1.gstatic.com/images?q=tb...                Forbes   \n13  https://encrypted-tbn2.gstatic.com/images?q=tb...         Nintendo Life   \n14  https://encrypted-tbn1.gstatic.com/images?q=tb...             The Verge   \n15  https://encrypted-tbn0.gstatic.com/images?q=tb...                   CNN   \n16  https://encrypted-tbn0.gstatic.com/images?q=tb...            9to5Google   \n17  https://encrypted-tbn1.gstatic.com/images?q=tb...               9to5Mac   \n18  https://encrypted-tbn0.gstatic.com/images?q=tb...  The Associated Press   \n19  https://encrypted-tbn1.gstatic.com/images?q=tb...          SciTechDaily   \n20  https://encrypted-tbn1.gstatic.com/images?q=tb...     Android Authority   \n21  https://encrypted-tbn0.gstatic.com/images?q=tb...              Engadget   \n\n                                          source_icon  \\\n0   https://encrypted-tbn1.gstatic.com/faviconV2?u...   \n1   https://encrypted-tbn2.gstatic.com/faviconV2?u...   \n2   https://encrypted-tbn2.gstatic.com/faviconV2?u...   \n3   https://encrypted-tbn0.gstatic.com/faviconV2?u...   \n4   https://encrypted-tbn1.gstatic.com/faviconV2?u...   \n5   https://encrypted-tbn3.gstatic.com/faviconV2?u...   \n6   https://encrypted-tbn1.gstatic.com/faviconV2?u...   \n7   https://encrypted-tbn3.gstatic.com/faviconV2?u...   \n8   https://encrypted-tbn3.gstatic.com/faviconV2?u...   \n9   https://encrypted-tbn2.gstatic.com/faviconV2?u...   \n10  https://encrypted-tbn1.gstatic.com/faviconV2?u...   \n11  https://encrypted-tbn0.gstatic.com/faviconV2?u...   \n12  https://encrypted-tbn2.gstatic.com/faviconV2?u...   \n13  https://encrypted-tbn1.gstatic.com/faviconV2?u...   \n14  https://encrypted-tbn2.gstatic.com/faviconV2?u...   \n15  https://encrypted-tbn2.gstatic.com/faviconV2?u...   \n16  https://encrypted-tbn3.gstatic.com/faviconV2?u...   \n17  https://encrypted-tbn0.gstatic.com/faviconV2?u...   \n18  https://encrypted-tbn2.gstatic.com/faviconV2?u...   \n19  https://encrypted-tbn2.gstatic.com/faviconV2?u...   \n20  https://encrypted-tbn3.gstatic.com/faviconV2?u...   \n21  https://encrypted-tbn1.gstatic.com/faviconV2?u...   \n\n                                                title     section  \\\n0   Apple Apologizes for 'Crush' iPad Pro Ad, Won'...  Technology   \n1   Sam Altman shoots down reports of search engin...  Technology   \n2   Apple Will Revamp Siri to Catch Up to Its Chat...  Technology   \n3   M4 iPad Pro lacks always-on display despite OL...  Technology   \n4   100 Days Later, Neuralink’s First Human Patien...  Technology   \n5   YouTube for Android TV gets new sidebar animat...  Technology   \n6   Nintendo Doesn't Want to Deal With X/Twitter E...  Technology   \n7   Put a 512GB Google Pixel 7 Pro in Your Pocket ...  Technology   \n8   Google Messages will soon hide texts from bloc...  Technology   \n9   Xbox President Addresses Bethesda Studio Closu...  Technology   \n10  Microsoft's web-based mobile game store opens ...  Technology   \n11  New Sonos app breaks accessibility for visuall...  Technology   \n12  Dunkey's First Game, 'Animal Well,' Is The Bes...  Technology   \n13  Nintendo Believes Successor Announcement Will ...  Technology   \n14  The Oura Ring will soon be able to gauge how “...  Technology   \n15  Welcome to the AI dystopia no one asked for, c...  Technology   \n16  I/O 2024 preview: How does Google become the A...  Technology   \n17  WhatsApp rolling out refreshed design for iOS ...  Technology   \n18  Asteroids, Myst, Resident Evil, SimCity and Ul...  Technology   \n19  Cambridge Experts Warn: AI “Deadbots” Could Di...  Technology   \n20  The Pixel 8a will soon support display output ...  Technology   \n21  The Morning After: Unraveling Apple's messy Pe...  Technology   \n\n                 download_date        date  \n0   2024-05-11 00:46:55.444180  2024-05-11  \n1   2024-05-11 00:46:55.444180  2024-05-11  \n2   2024-05-11 00:46:55.444180  2024-05-11  \n3   2024-05-11 00:46:55.444180  2024-05-11  \n4   2024-05-11 00:46:55.444180  2024-05-11  \n5   2024-05-11 00:46:55.444180  2024-05-11  \n6   2024-05-11 00:46:55.444180  2024-05-11  \n7   2024-05-11 00:46:55.444180  2024-05-11  \n8   2024-05-11 00:46:55.444180  2024-05-11  \n9   2024-05-11 00:46:55.444180  2024-05-11  \n10  2024-05-11 00:46:55.444180  2024-05-11  \n11  2024-05-11 00:46:55.444180  2024-05-11  \n12  2024-05-11 00:46:55.444180  2024-05-11  \n13  2024-05-11 00:46:55.444180  2024-05-11  \n14  2024-05-11 00:46:55.444180  2024-05-11  \n15  2024-05-11 00:46:55.444180  2024-05-11  \n16  2024-05-11 00:46:55.444180  2024-05-11  \n17  2024-05-11 00:46:55.444180  2024-05-11  \n18  2024-05-11 00:46:55.444180  2024-05-11  \n19  2024-05-11 00:46:55.444180  2024-05-11  \n20  2024-05-11 00:46:55.444180  2024-05-11  \n21  2024-05-11 00:46:55.444180  2024-05-11  ",
      "text/html": "<div>\n<style scoped>\n    .dataframe tbody tr th:only-of-type {\n        vertical-align: middle;\n    }\n\n    .dataframe tbody tr th {\n        vertical-align: top;\n    }\n\n    .dataframe thead th {\n        text-align: right;\n    }\n</style>\n<table border=\"1\" class=\"dataframe\">\n  <thead>\n    <tr style=\"text-align: right;\">\n      <th></th>\n      <th>link</th>\n      <th>og</th>\n      <th>source</th>\n      <th>source_icon</th>\n      <th>title</th>\n      <th>section</th>\n      <th>download_date</th>\n      <th>date</th>\n    </tr>\n  </thead>\n  <tbody>\n    <tr>\n      <th>0</th>\n      <td>https://news.google.com/articles/CBMiPGh0dHBzO...</td>\n      <td>https://encrypted-tbn3.gstatic.com/images?q=tb...</td>\n      <td>MacRumors</td>\n      <td>https://encrypted-tbn1.gstatic.com/faviconV2?u...</td>\n      <td>Apple Apologizes for 'Crush' iPad Pro Ad, Won'...</td>\n      <td>Technology</td>\n      <td>2024-05-11 00:46:55.444180</td>\n      <td>2024-05-11</td>\n    </tr>\n    <tr>\n      <th>1</th>\n      <td>https://news.google.com/articles/CBMiXGh0dHBzO...</td>\n      <td>https://encrypted-tbn2.gstatic.com/images?q=tb...</td>\n      <td>The Verge</td>\n      <td>https://encrypted-tbn2.gstatic.com/faviconV2?u...</td>\n      <td>Sam Altman shoots down reports of search engin...</td>\n      <td>Technology</td>\n      <td>2024-05-11 00:46:55.444180</td>\n      <td>2024-05-11</td>\n    </tr>\n    <tr>\n      <th>2</th>\n      <td>https://news.google.com/articles/CBMiRmh0dHBzO...</td>\n      <td>https://encrypted-tbn2.gstatic.com/images?q=tb...</td>\n      <td>The New York Times</td>\n      <td>https://encrypted-tbn2.gstatic.com/faviconV2?u...</td>\n      <td>Apple Will Revamp Siri to Catch Up to Its Chat...</td>\n      <td>Technology</td>\n      <td>2024-05-11 00:46:55.444180</td>\n      <td>2024-05-11</td>\n    </tr>\n    <tr>\n      <th>3</th>\n      <td>https://news.google.com/articles/CBMiQmh0dHBzO...</td>\n      <td>https://encrypted-tbn2.gstatic.com/images?q=tb...</td>\n      <td>9to5Mac</td>\n      <td>https://encrypted-tbn0.gstatic.com/faviconV2?u...</td>\n      <td>M4 iPad Pro lacks always-on display despite OL...</td>\n      <td>Technology</td>\n      <td>2024-05-11 00:46:55.444180</td>\n      <td>2024-05-11</td>\n    </tr>\n    <tr>\n      <th>4</th>\n      <td>https://news.google.com/articles/CBMigAFodHRwc...</td>\n      <td>https://encrypted-tbn0.gstatic.com/images?q=tb...</td>\n      <td>IGN</td>\n      <td>https://encrypted-tbn1.gstatic.com/faviconV2?u...</td>\n      <td>100 Days Later, Neuralink’s First Human Patien...</td>\n      <td>Technology</td>\n      <td>2024-05-11 00:46:55.444180</td>\n      <td>2024-05-11</td>\n    </tr>\n    <tr>\n      <th>5</th>\n      <td>https://news.google.com/articles/CBMiR2h0dHBzO...</td>\n      <td>https://encrypted-tbn0.gstatic.com/images?q=tb...</td>\n      <td>9to5Google</td>\n      <td>https://encrypted-tbn3.gstatic.com/faviconV2?u...</td>\n      <td>YouTube for Android TV gets new sidebar animat...</td>\n      <td>Technology</td>\n      <td>2024-05-11 00:46:55.444180</td>\n      <td>2024-05-11</td>\n    </tr>\n    <tr>\n      <th>6</th>\n      <td>https://news.google.com/articles/CBMiUWh0dHBzO...</td>\n      <td>https://encrypted-tbn1.gstatic.com/images?q=tb...</td>\n      <td>Gizmodo</td>\n      <td>https://encrypted-tbn1.gstatic.com/faviconV2?u...</td>\n      <td>Nintendo Doesn't Want to Deal With X/Twitter E...</td>\n      <td>Technology</td>\n      <td>2024-05-11 00:46:55.444180</td>\n      <td>2024-05-11</td>\n    </tr>\n    <tr>\n      <th>7</th>\n      <td>https://news.google.com/articles/CBMiXGh0dHBzO...</td>\n      <td>https://encrypted-tbn2.gstatic.com/images?q=tb...</td>\n      <td>CNET</td>\n      <td>https://encrypted-tbn3.gstatic.com/faviconV2?u...</td>\n      <td>Put a 512GB Google Pixel 7 Pro in Your Pocket ...</td>\n      <td>Technology</td>\n      <td>2024-05-11 00:46:55.444180</td>\n      <td>2024-05-11</td>\n    </tr>\n    <tr>\n      <th>8</th>\n      <td>https://news.google.com/articles/CBMiVmh0dHBzO...</td>\n      <td>https://encrypted-tbn1.gstatic.com/images?q=tb...</td>\n      <td>Android Authority</td>\n      <td>https://encrypted-tbn3.gstatic.com/faviconV2?u...</td>\n      <td>Google Messages will soon hide texts from bloc...</td>\n      <td>Technology</td>\n      <td>2024-05-11 00:46:55.444180</td>\n      <td>2024-05-11</td>\n    </tr>\n    <tr>\n      <th>9</th>\n      <td>https://news.google.com/articles/CBMifmh0dHBzO...</td>\n      <td>https://encrypted-tbn1.gstatic.com/images?q=tb...</td>\n      <td>Game Informer</td>\n      <td>https://encrypted-tbn2.gstatic.com/faviconV2?u...</td>\n      <td>Xbox President Addresses Bethesda Studio Closu...</td>\n      <td>Technology</td>\n      <td>2024-05-11 00:46:55.444180</td>\n      <td>2024-05-11</td>\n    </tr>\n    <tr>\n      <th>10</th>\n      <td>https://news.google.com/articles/CBMiXGh0dHBzO...</td>\n      <td>https://encrypted-tbn0.gstatic.com/images?q=tb...</td>\n      <td>Engadget</td>\n      <td>https://encrypted-tbn1.gstatic.com/faviconV2?u...</td>\n      <td>Microsoft's web-based mobile game store opens ...</td>\n      <td>Technology</td>\n      <td>2024-05-11 00:46:55.444180</td>\n      <td>2024-05-11</td>\n    </tr>\n    <tr>\n      <th>11</th>\n      <td>https://news.google.com/articles/CBMiWGh0dHBzO...</td>\n      <td>https://encrypted-tbn3.gstatic.com/images?q=tb...</td>\n      <td>9to5Mac</td>\n      <td>https://encrypted-tbn0.gstatic.com/faviconV2?u...</td>\n      <td>New Sonos app breaks accessibility for visuall...</td>\n      <td>Technology</td>\n      <td>2024-05-11 00:46:55.444180</td>\n      <td>2024-05-11</td>\n    </tr>\n    <tr>\n      <th>12</th>\n      <td>https://news.google.com/articles/CBMifWh0dHBzO...</td>\n      <td>https://encrypted-tbn1.gstatic.com/images?q=tb...</td>\n      <td>Forbes</td>\n      <td>https://encrypted-tbn2.gstatic.com/faviconV2?u...</td>\n      <td>Dunkey's First Game, 'Animal Well,' Is The Bes...</td>\n      <td>Technology</td>\n      <td>2024-05-11 00:46:55.444180</td>\n      <td>2024-05-11</td>\n    </tr>\n    <tr>\n      <th>13</th>\n      <td>https://news.google.com/articles/CBMieGh0dHBzO...</td>\n      <td>https://encrypted-tbn2.gstatic.com/images?q=tb...</td>\n      <td>Nintendo Life</td>\n      <td>https://encrypted-tbn1.gstatic.com/faviconV2?u...</td>\n      <td>Nintendo Believes Successor Announcement Will ...</td>\n      <td>Technology</td>\n      <td>2024-05-11 00:46:55.444180</td>\n      <td>2024-05-11</td>\n    </tr>\n    <tr>\n      <th>14</th>\n      <td>https://news.google.com/articles/CBMiWmh0dHBzO...</td>\n      <td>https://encrypted-tbn1.gstatic.com/images?q=tb...</td>\n      <td>The Verge</td>\n      <td>https://encrypted-tbn2.gstatic.com/faviconV2?u...</td>\n      <td>The Oura Ring will soon be able to gauge how “...</td>\n      <td>Technology</td>\n      <td>2024-05-11 00:46:55.444180</td>\n      <td>2024-05-11</td>\n    </tr>\n    <tr>\n      <th>15</th>\n      <td>https://news.google.com/articles/CBMiVmh0dHBzO...</td>\n      <td>https://encrypted-tbn0.gstatic.com/images?q=tb...</td>\n      <td>CNN</td>\n      <td>https://encrypted-tbn2.gstatic.com/faviconV2?u...</td>\n      <td>Welcome to the AI dystopia no one asked for, c...</td>\n      <td>Technology</td>\n      <td>2024-05-11 00:46:55.444180</td>\n      <td>2024-05-11</td>\n    </tr>\n    <tr>\n      <th>16</th>\n      <td>https://news.google.com/articles/CBMiOWh0dHBzO...</td>\n      <td>https://encrypted-tbn0.gstatic.com/images?q=tb...</td>\n      <td>9to5Google</td>\n      <td>https://encrypted-tbn3.gstatic.com/faviconV2?u...</td>\n      <td>I/O 2024 preview: How does Google become the A...</td>\n      <td>Technology</td>\n      <td>2024-05-11 00:46:55.444180</td>\n      <td>2024-05-11</td>\n    </tr>\n    <tr>\n      <th>17</th>\n      <td>https://news.google.com/articles/CBMicGh0dHBzO...</td>\n      <td>https://encrypted-tbn1.gstatic.com/images?q=tb...</td>\n      <td>9to5Mac</td>\n      <td>https://encrypted-tbn0.gstatic.com/faviconV2?u...</td>\n      <td>WhatsApp rolling out refreshed design for iOS ...</td>\n      <td>Technology</td>\n      <td>2024-05-11 00:46:55.444180</td>\n      <td>2024-05-11</td>\n    </tr>\n    <tr>\n      <th>18</th>\n      <td>https://news.google.com/articles/CBMiX2h0dHBzO...</td>\n      <td>https://encrypted-tbn0.gstatic.com/images?q=tb...</td>\n      <td>The Associated Press</td>\n      <td>https://encrypted-tbn2.gstatic.com/faviconV2?u...</td>\n      <td>Asteroids, Myst, Resident Evil, SimCity and Ul...</td>\n      <td>Technology</td>\n      <td>2024-05-11 00:46:55.444180</td>\n      <td>2024-05-11</td>\n    </tr>\n    <tr>\n      <th>19</th>\n      <td>https://news.google.com/articles/CBMic2h0dHBzO...</td>\n      <td>https://encrypted-tbn1.gstatic.com/images?q=tb...</td>\n      <td>SciTechDaily</td>\n      <td>https://encrypted-tbn2.gstatic.com/faviconV2?u...</td>\n      <td>Cambridge Experts Warn: AI “Deadbots” Could Di...</td>\n      <td>Technology</td>\n      <td>2024-05-11 00:46:55.444180</td>\n      <td>2024-05-11</td>\n    </tr>\n    <tr>\n      <th>20</th>\n      <td>https://news.google.com/articles/CBMiQWh0dHBzO...</td>\n      <td>https://encrypted-tbn1.gstatic.com/images?q=tb...</td>\n      <td>Android Authority</td>\n      <td>https://encrypted-tbn3.gstatic.com/faviconV2?u...</td>\n      <td>The Pixel 8a will soon support display output ...</td>\n      <td>Technology</td>\n      <td>2024-05-11 00:46:55.444180</td>\n      <td>2024-05-11</td>\n    </tr>\n    <tr>\n      <th>21</th>\n      <td>https://news.google.com/articles/CBMiX2h0dHBzO...</td>\n      <td>https://encrypted-tbn0.gstatic.com/images?q=tb...</td>\n      <td>Engadget</td>\n      <td>https://encrypted-tbn1.gstatic.com/faviconV2?u...</td>\n      <td>The Morning After: Unraveling Apple's messy Pe...</td>\n      <td>Technology</td>\n      <td>2024-05-11 00:46:55.444180</td>\n      <td>2024-05-11</td>\n    </tr>\n  </tbody>\n</table>\n</div>"
     },
     "execution_count": 15,
     "metadata": {},
     "output_type": "execute_result"
    }
   ],
   "source": [
    "# get the file from s3 using boto3\n",
    "obj = s3.get_object(Bucket=bucket_name_news, Key=technology_file)\n",
    "data_tech = pd.read_csv(obj['Body'])\n",
    "\n",
    "data_tech"
   ]
  },
  {
   "cell_type": "markdown",
   "metadata": {},
   "source": [
    " ### 🏷️ Add tags to the bucket\n",
    " When creating a resource in the cloud, it is considered a best practice to add tags for organizing resources, controlling costs, or applying security policies based on these labels. The following code demonstrates how to add tags to a bucket using a method from the boto3 library."
   ]
  },
  {
   "cell_type": "code",
   "execution_count": 16,
   "metadata": {
    "ExecuteTime": {
     "end_time": "2024-05-10T21:50:40.297755100Z",
     "start_time": "2024-05-10T21:50:40.247941Z"
    }
   },
   "outputs": [
    {
     "data": {
      "text/plain": "{'ResponseMetadata': {'RequestId': '86e6d957-b63a-4935-bfd9-b68bc0d9b70c',\n  'HostId': 's9lzHYrFp76ZVxRcpX9+5cjAnEH2ROuNkd2BHfIa6UkFVdtjf5mKR3/eTPFvsiP/XV/VLi31234=',\n  'HTTPStatusCode': 204,\n  'HTTPHeaders': {'server': 'TwistedWeb/24.3.0',\n   'date': 'Fri, 10 May 2024 21:50:40 GMT',\n   'x-amz-request-id': '86e6d957-b63a-4935-bfd9-b68bc0d9b70c',\n   'x-amz-id-2': 's9lzHYrFp76ZVxRcpX9+5cjAnEH2ROuNkd2BHfIa6UkFVdtjf5mKR3/eTPFvsiP/XV/VLi31234='},\n  'RetryAttempts': 0}}"
     },
     "execution_count": 16,
     "metadata": {},
     "output_type": "execute_result"
    }
   ],
   "source": [
    "s3.put_bucket_tagging(\n",
    "    Bucket=bucket_name_news,\n",
    "    Tagging={\n",
    "        'TagSet': [\n",
    "            {\n",
    "                'Key': 'Environment',\n",
    "                'Value': 'Test'\n",
    "            },\n",
    "            {\n",
    "                'Key': 'Project',\n",
    "                'Value': 'Localstack+Boto3'\n",
    "            }\n",
    "        ]\n",
    "    }\n",
    ")"
   ]
  },
  {
   "cell_type": "code",
   "execution_count": 17,
   "metadata": {
    "ExecuteTime": {
     "end_time": "2024-05-10T21:50:54.665558Z",
     "start_time": "2024-05-10T21:50:54.644828900Z"
    }
   },
   "outputs": [
    {
     "data": {
      "text/plain": "           Key             Value\n0  Environment              Test\n1      Project  Localstack+Boto3",
      "text/html": "<div>\n<style scoped>\n    .dataframe tbody tr th:only-of-type {\n        vertical-align: middle;\n    }\n\n    .dataframe tbody tr th {\n        vertical-align: top;\n    }\n\n    .dataframe thead th {\n        text-align: right;\n    }\n</style>\n<table border=\"1\" class=\"dataframe\">\n  <thead>\n    <tr style=\"text-align: right;\">\n      <th></th>\n      <th>Key</th>\n      <th>Value</th>\n    </tr>\n  </thead>\n  <tbody>\n    <tr>\n      <th>0</th>\n      <td>Environment</td>\n      <td>Test</td>\n    </tr>\n    <tr>\n      <th>1</th>\n      <td>Project</td>\n      <td>Localstack+Boto3</td>\n    </tr>\n  </tbody>\n</table>\n</div>"
     },
     "execution_count": 17,
     "metadata": {},
     "output_type": "execute_result"
    }
   ],
   "source": [
    "# get the tagging\n",
    "pd.json_normalize(s3.get_bucket_tagging(Bucket=bucket_name_news)['TagSet'])"
   ]
  },
  {
   "cell_type": "markdown",
   "metadata": {},
   "source": [
    "### 🔄 Versioning in the bucket\n",
    "Another good practice to apply is enabling versioning for your bucket. Versioning provides a way to recover and keep different versions of the same object. In the following code, we will create a file with the inventory of objects in the bucket and save the file twice. "
   ]
  },
  {
   "cell_type": "code",
   "execution_count": 18,
   "metadata": {
    "ExecuteTime": {
     "end_time": "2024-05-10T21:53:40.356778300Z",
     "start_time": "2024-05-10T21:53:40.301016700Z"
    }
   },
   "outputs": [
    {
     "data": {
      "text/plain": "{'ResponseMetadata': {'RequestId': '4560040d-028c-4b46-aa58-54577669aa8f',\n  'HostId': 's9lzHYrFp76ZVxRcpX9+5cjAnEH2ROuNkd2BHfIa6UkFVdtjf5mKR3/eTPFvsiP/XV/VLi31234=',\n  'HTTPStatusCode': 200,\n  'HTTPHeaders': {'server': 'TwistedWeb/24.3.0',\n   'date': 'Fri, 10 May 2024 21:53:40 GMT',\n   'x-amz-request-id': '4560040d-028c-4b46-aa58-54577669aa8f',\n   'x-amz-id-2': 's9lzHYrFp76ZVxRcpX9+5cjAnEH2ROuNkd2BHfIa6UkFVdtjf5mKR3/eTPFvsiP/XV/VLi31234=',\n   'content-length': '0'},\n  'RetryAttempts': 0}}"
     },
     "execution_count": 18,
     "metadata": {},
     "output_type": "execute_result"
    }
   ],
   "source": [
    "\n",
    "# allow versioning in the bucket\n",
    "s3.put_bucket_versioning(\n",
    "    Bucket=bucket_name_news,\n",
    "    VersioningConfiguration={\n",
    "        'Status': 'Enabled'\n",
    "    }\n",
    ")\n",
    "\n"
   ]
  },
  {
   "cell_type": "code",
   "execution_count": 22,
   "metadata": {
    "ExecuteTime": {
     "end_time": "2024-05-10T21:57:58.573331600Z",
     "start_time": "2024-05-10T21:57:58.525057500Z"
    }
   },
   "outputs": [
    {
     "data": {
      "text/plain": "{'ResponseMetadata': {'RequestId': 'a9fc51fc-d56d-40a4-a342-f39060ac2f96',\n  'HostId': 's9lzHYrFp76ZVxRcpX9+5cjAnEH2ROuNkd2BHfIa6UkFVdtjf5mKR3/eTPFvsiP/XV/VLi31234=',\n  'HTTPStatusCode': 200,\n  'HTTPHeaders': {'server': 'TwistedWeb/24.3.0',\n   'date': 'Fri, 10 May 2024 21:57:58 GMT',\n   'etag': '\"98a5cdd5e6d4e6726fbc582591c523c0\"',\n   'x-amz-server-side-encryption': 'AES256',\n   'x-amz-version-id': 'oZZ9rpTx5fC6EbVWwEAOcQ',\n   'x-amz-request-id': 'a9fc51fc-d56d-40a4-a342-f39060ac2f96',\n   'x-amz-id-2': 's9lzHYrFp76ZVxRcpX9+5cjAnEH2ROuNkd2BHfIa6UkFVdtjf5mKR3/eTPFvsiP/XV/VLi31234=',\n   'content-length': '0'},\n  'RetryAttempts': 0},\n 'ETag': '\"98a5cdd5e6d4e6726fbc582591c523c0\"',\n 'ServerSideEncryption': 'AES256',\n 'VersionId': 'oZZ9rpTx5fC6EbVWwEAOcQ'}"
     },
     "execution_count": 22,
     "metadata": {},
     "output_type": "execute_result"
    }
   ],
   "source": [
    "# Add new file to the bucket\n",
    "\n",
    "# file name\n",
    "file_name = 'inventory.csv'\n",
    "\n",
    "# list all objects in the bucket\n",
    "files = list_objects(bucket_name=bucket_name_news)\n",
    "bytes_io = io.BytesIO()\n",
    "files.to_csv(bytes_io, index=False)\n",
    "bytes_io.seek(0)\n",
    "# upload the data to s3\n",
    "s3.put_object(Bucket=bucket_name_news, Key=file_name, Body=bytes_io)\n",
    "\n"
   ]
  },
  {
   "cell_type": "code",
   "execution_count": 20,
   "metadata": {
    "ExecuteTime": {
     "end_time": "2024-05-10T21:57:12.732242300Z",
     "start_time": "2024-05-10T21:57:12.684890400Z"
    }
   },
   "outputs": [
    {
     "data": {
      "text/plain": "{'ResponseMetadata': {'RequestId': '63a47799-d56c-4208-a944-7796fa6ab813',\n  'HostId': 's9lzHYrFp76ZVxRcpX9+5cjAnEH2ROuNkd2BHfIa6UkFVdtjf5mKR3/eTPFvsiP/XV/VLi31234=',\n  'HTTPStatusCode': 200,\n  'HTTPHeaders': {'server': 'TwistedWeb/24.3.0',\n   'date': 'Fri, 10 May 2024 21:57:12 GMT',\n   'etag': '\"d41d8cd98f00b204e9800998ecf8427e\"',\n   'x-amz-server-side-encryption': 'AES256',\n   'x-amz-version-id': 'yzmhajY7VxnbFeIc7dR5cQ',\n   'x-amz-request-id': '63a47799-d56c-4208-a944-7796fa6ab813',\n   'x-amz-id-2': 's9lzHYrFp76ZVxRcpX9+5cjAnEH2ROuNkd2BHfIa6UkFVdtjf5mKR3/eTPFvsiP/XV/VLi31234=',\n   'content-length': '0'},\n  'RetryAttempts': 0},\n 'ETag': '\"d41d8cd98f00b204e9800998ecf8427e\"',\n 'ServerSideEncryption': 'AES256',\n 'VersionId': 'yzmhajY7VxnbFeIc7dR5cQ'}"
     },
     "execution_count": 20,
     "metadata": {},
     "output_type": "execute_result"
    }
   ],
   "source": [
    "# add again the same file\n",
    "s3.put_object(Bucket=bucket_name_news, Key=file_name, Body=bytes_io)"
   ]
  },
  {
   "cell_type": "code",
   "execution_count": 23,
   "metadata": {
    "ExecuteTime": {
     "end_time": "2024-05-10T21:58:01.099645800Z",
     "start_time": "2024-05-10T21:58:01.048660300Z"
    }
   },
   "outputs": [
    {
     "data": {
      "text/plain": "                                 ETag  Size StorageClass            Key  \\\n0  \"98a5cdd5e6d4e6726fbc582591c523c0\"  1882     STANDARD  inventory.csv   \n1  \"d41d8cd98f00b204e9800998ecf8427e\"     0     STANDARD  inventory.csv   \n2  \"49f0a741c10b856635b2a2a413d930cc\"  1718     STANDARD  inventory.csv   \n\n                VersionId  IsLatest              LastModified  \\\n0  oZZ9rpTx5fC6EbVWwEAOcQ      True 2024-05-10 21:57:58+00:00   \n1  yzmhajY7VxnbFeIc7dR5cQ     False 2024-05-10 21:57:12+00:00   \n2  2h7LcY4Yh9D3m4BkAPUQ2A     False 2024-05-10 21:56:09+00:00   \n\n  Owner.DisplayName                                           Owner.ID  \n0           webfile  75aa57f09aa0c8caeab4f8c24e99d10f8e7faeebf76c07...  \n1           webfile  75aa57f09aa0c8caeab4f8c24e99d10f8e7faeebf76c07...  \n2           webfile  75aa57f09aa0c8caeab4f8c24e99d10f8e7faeebf76c07...  ",
      "text/html": "<div>\n<style scoped>\n    .dataframe tbody tr th:only-of-type {\n        vertical-align: middle;\n    }\n\n    .dataframe tbody tr th {\n        vertical-align: top;\n    }\n\n    .dataframe thead th {\n        text-align: right;\n    }\n</style>\n<table border=\"1\" class=\"dataframe\">\n  <thead>\n    <tr style=\"text-align: right;\">\n      <th></th>\n      <th>ETag</th>\n      <th>Size</th>\n      <th>StorageClass</th>\n      <th>Key</th>\n      <th>VersionId</th>\n      <th>IsLatest</th>\n      <th>LastModified</th>\n      <th>Owner.DisplayName</th>\n      <th>Owner.ID</th>\n    </tr>\n  </thead>\n  <tbody>\n    <tr>\n      <th>0</th>\n      <td>\"98a5cdd5e6d4e6726fbc582591c523c0\"</td>\n      <td>1882</td>\n      <td>STANDARD</td>\n      <td>inventory.csv</td>\n      <td>oZZ9rpTx5fC6EbVWwEAOcQ</td>\n      <td>True</td>\n      <td>2024-05-10 21:57:58+00:00</td>\n      <td>webfile</td>\n      <td>75aa57f09aa0c8caeab4f8c24e99d10f8e7faeebf76c07...</td>\n    </tr>\n    <tr>\n      <th>1</th>\n      <td>\"d41d8cd98f00b204e9800998ecf8427e\"</td>\n      <td>0</td>\n      <td>STANDARD</td>\n      <td>inventory.csv</td>\n      <td>yzmhajY7VxnbFeIc7dR5cQ</td>\n      <td>False</td>\n      <td>2024-05-10 21:57:12+00:00</td>\n      <td>webfile</td>\n      <td>75aa57f09aa0c8caeab4f8c24e99d10f8e7faeebf76c07...</td>\n    </tr>\n    <tr>\n      <th>2</th>\n      <td>\"49f0a741c10b856635b2a2a413d930cc\"</td>\n      <td>1718</td>\n      <td>STANDARD</td>\n      <td>inventory.csv</td>\n      <td>2h7LcY4Yh9D3m4BkAPUQ2A</td>\n      <td>False</td>\n      <td>2024-05-10 21:56:09+00:00</td>\n      <td>webfile</td>\n      <td>75aa57f09aa0c8caeab4f8c24e99d10f8e7faeebf76c07...</td>\n    </tr>\n  </tbody>\n</table>\n</div>"
     },
     "execution_count": 23,
     "metadata": {},
     "output_type": "execute_result"
    }
   ],
   "source": [
    "# List all the version of the object\n",
    "versions = s3.list_object_versions(Bucket=bucket_name_news, Prefix=file_name)\n",
    "\n",
    "pd.json_normalize(versions['Versions'])"
   ]
  },
  {
   "cell_type": "markdown",
   "metadata": {},
   "source": [
    "### 🗑️ Create a static site using s3 bucket\n",
    "\n",
    "In this section, we need to utilize a different command, which requires prior installation of the `awscli-local` tool specifically designed for use with **LocalStack**.\n",
    "\n",
    "The `awscli-local` tool facilitates developers in seamlessly engaging with the **LocalStack** instance, because you can automatically redirecting commands to local endpoints instead of real AWS endpoints."
   ]
  },
  {
   "cell_type": "code",
   "execution_count": 24,
   "metadata": {
    "ExecuteTime": {
     "end_time": "2024-05-10T21:58:43.644984100Z",
     "start_time": "2024-05-10T21:58:34.887390400Z"
    }
   },
   "outputs": [
    {
     "name": "stdout",
     "output_type": "stream",
     "text": [
      "Collecting awscli-local\n",
      "  Downloading awscli-local-0.22.0.tar.gz (11 kB)\n",
      "  Preparing metadata (setup.py): started\n",
      "  Preparing metadata (setup.py): finished with status 'done'\n",
      "Collecting localstack-client\n",
      "  Downloading localstack-client-2.5.tar.gz (10 kB)\n",
      "  Preparing metadata (setup.py): started\n",
      "  Preparing metadata (setup.py): finished with status 'done'\n",
      "Requirement already satisfied: boto3 in c:\\users\\vm140\\pycharmprojects\\docker\\venv\\lib\\site-packages (from localstack-client->awscli-local) (1.34.103)\n",
      "Requirement already satisfied: botocore<1.35.0,>=1.34.103 in c:\\users\\vm140\\pycharmprojects\\docker\\venv\\lib\\site-packages (from boto3->localstack-client->awscli-local) (1.34.103)\n",
      "Requirement already satisfied: jmespath<2.0.0,>=0.7.1 in c:\\users\\vm140\\pycharmprojects\\docker\\venv\\lib\\site-packages (from boto3->localstack-client->awscli-local) (1.0.1)\n",
      "Requirement already satisfied: s3transfer<0.11.0,>=0.10.0 in c:\\users\\vm140\\pycharmprojects\\docker\\venv\\lib\\site-packages (from boto3->localstack-client->awscli-local) (0.10.1)\n",
      "Requirement already satisfied: python-dateutil<3.0.0,>=2.1 in c:\\users\\vm140\\pycharmprojects\\docker\\venv\\lib\\site-packages (from botocore<1.35.0,>=1.34.103->boto3->localstack-client->awscli-local) (2.9.0.post0)\n",
      "Requirement already satisfied: urllib3!=2.2.0,<3,>=1.25.4 in c:\\users\\vm140\\pycharmprojects\\docker\\venv\\lib\\site-packages (from botocore<1.35.0,>=1.34.103->boto3->localstack-client->awscli-local) (2.2.1)\n",
      "Requirement already satisfied: six>=1.5 in c:\\users\\vm140\\pycharmprojects\\docker\\venv\\lib\\site-packages (from python-dateutil<3.0.0,>=2.1->botocore<1.35.0,>=1.34.103->boto3->localstack-client->awscli-local) (1.16.0)\n",
      "Building wheels for collected packages: awscli-local, localstack-client\n",
      "  Building wheel for awscli-local (setup.py): started\n",
      "  Building wheel for awscli-local (setup.py): finished with status 'done'\n",
      "  Created wheel for awscli-local: filename=awscli_local-0.22.0-py3-none-any.whl size=12038 sha256=703ebc6c06fabb82a48c4c70ef0e6207075a37f57125373f7ea6bf39f0d0f155\n",
      "  Stored in directory: c:\\users\\vm140\\appdata\\local\\pip\\cache\\wheels\\a9\\b7\\36\\a10e7c94446e33854d2f6e03a51daf6396f46007fb3cad1f12\n",
      "  Building wheel for localstack-client (setup.py): started\n",
      "  Building wheel for localstack-client (setup.py): finished with status 'done'\n",
      "  Created wheel for localstack-client: filename=localstack_client-2.5-py3-none-any.whl size=10238 sha256=d7a5166f1fe9fe83bb46434d4c52317186c4207b5e4ad876c12398c07e03f923\n",
      "  Stored in directory: c:\\users\\vm140\\appdata\\local\\pip\\cache\\wheels\\cd\\fe\\66\\9955e75c2b11a3d991536342c5b37bbc43cc7372062b2324fa\n",
      "Successfully built awscli-local localstack-client\n",
      "Installing collected packages: localstack-client, awscli-local\n",
      "Successfully installed awscli-local-0.22.0 localstack-client-2.5\n"
     ]
    },
    {
     "name": "stderr",
     "output_type": "stream",
     "text": [
      "\n",
      "[notice] A new release of pip available: 22.3.1 -> 24.0\n",
      "[notice] To update, run: python.exe -m pip install --upgrade pip\n"
     ]
    }
   ],
   "source": [
    "# install awslocal to use the cli to interact with localstack\n",
    "!pip3.11 install awscli-local"
   ]
  },
  {
   "cell_type": "code",
   "execution_count": 27,
   "metadata": {
    "ExecuteTime": {
     "end_time": "2024-05-10T22:02:04.194530Z",
     "start_time": "2024-05-10T22:02:00.348169100Z"
    }
   },
   "outputs": [
    {
     "name": "stdout",
     "output_type": "stream",
     "text": [
      "{\n",
      "    \"Location\": \"/docs-web\"\n",
      "}\n",
      "Completed 698 Bytes/70.0 KiB (52.5 KiB/s) with 3 file(s) remaining\n",
      "upload: static-site\\error.html to s3://docs-web/error.html        \n",
      "Completed 698 Bytes/70.0 KiB (52.5 KiB/s) with 2 file(s) remaining\n",
      "Completed 1.8 KiB/70.0 KiB (107.9 KiB/s) with 2 file(s) remaining \n",
      "upload: static-site\\index.html to s3://docs-web/index.html        \n",
      "Completed 1.8 KiB/70.0 KiB (107.9 KiB/s) with 1 file(s) remaining\n",
      "Completed 70.0 KiB/70.0 KiB (950.5 KiB/s) with 1 file(s) remaining\n",
      "upload: static-site\\img\\img_localstack.png to s3://docs-web/img/img_localstack.png\n"
     ]
    }
   ],
   "source": [
    "# the following command creates a static website in s3\n",
    "!awslocal s3api create-bucket --bucket docs-web\n",
    "# add the website configuration\n",
    "!awslocal s3 website s3://docs-web/ --index-document index.html --error-document error.html\n",
    "# syncronize the static site with the s3 bucket\n",
    "!awslocal s3 sync static-site s3://docs-web\n",
    "\n",
    "#------------------------------------------------------------------------------------------\n",
    "\n",
    "# If you are using localstack, you can access the website using the following url\n",
    "#  http://docs-web.s3-website.localhost.localstack.cloud:4566/\n",
    "\n",
    "\n",
    "#------------------------------------------------------------------------------------------"
   ]
  },
  {
   "cell_type": "markdown",
   "metadata": {},
   "source": [
    "Url Site: http://docs-web.s3-website.localhost.localstack.cloud:4566/\n",
    "\n",
    "![](img/localstack-static-site.png)"
   ]
  },
  {
   "cell_type": "markdown",
   "metadata": {},
   "source": [
    "# 📚 References\n",
    "If you want to learn...\n",
    "\n",
    "* [AWS Boto3](https://boto3.amazonaws.com/v1/documentation/api/latest/guide/quickstart.html#installation)\n",
    "* [LocalStack](https://docs.localstack.cloud/overview/)\n",
    "* [API:OkSurf News](https://ok.surf/#endpoints)"
   ]
  }
 ],
 "metadata": {
  "kernelspec": {
   "display_name": "Python 3",
   "language": "python",
   "name": "python3"
  },
  "language_info": {
   "codemirror_mode": {
    "name": "ipython",
    "version": 3
   },
   "file_extension": ".py",
   "mimetype": "text/x-python",
   "name": "python",
   "nbconvert_exporter": "python",
   "pygments_lexer": "ipython3",
   "version": "3.11.6"
  }
 },
 "nbformat": 4,
 "nbformat_minor": 2
}
